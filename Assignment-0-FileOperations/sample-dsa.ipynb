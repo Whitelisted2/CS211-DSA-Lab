{
 "cells": [
  {
   "cell_type": "code",
   "execution_count": 1,
   "id": "aad66d54",
   "metadata": {},
   "outputs": [
    {
     "name": "stdout",
     "output_type": "stream",
     "text": [
      "Writing hello.c\n"
     ]
    }
   ],
   "source": [
    "%%file hello.c\n",
    "\n",
    "#include <stdio.h>\n",
    "\n",
    "int main(int argc, char **argv) {\n",
    "    printf(\"Hello, world!\\n\");\n",
    "    return 0;\n",
    "}"
   ]
  },
  {
   "cell_type": "code",
   "execution_count": 3,
   "id": "c11c5a8e",
   "metadata": {},
   "outputs": [],
   "source": [
    "! gcc hello.c -o hello"
   ]
  },
  {
   "cell_type": "code",
   "execution_count": 4,
   "id": "bac7556a",
   "metadata": {},
   "outputs": [
    {
     "name": "stdout",
     "output_type": "stream",
     "text": [
      "dsa.ipynb  hello  hello.c  prime  prime.c\r\n"
     ]
    }
   ],
   "source": [
    "! ls"
   ]
  },
  {
   "cell_type": "code",
   "execution_count": 5,
   "id": "306f5b0f",
   "metadata": {},
   "outputs": [
    {
     "name": "stdout",
     "output_type": "stream",
     "text": [
      "Hello, world!\r\n"
     ]
    }
   ],
   "source": [
    "! ./hello"
   ]
  },
  {
   "cell_type": "code",
   "execution_count": 6,
   "id": "d5ac019c",
   "metadata": {},
   "outputs": [
    {
     "name": "stdout",
     "output_type": "stream",
     "text": [
      "/home/jupyter-gayatri\r\n"
     ]
    }
   ],
   "source": [
    "!pwd"
   ]
  },
  {
   "cell_type": "code",
   "execution_count": 7,
   "id": "9097417c",
   "metadata": {},
   "outputs": [
    {
     "name": "stdout",
     "output_type": "stream",
     "text": [
      "Overwriting prime.c\n"
     ]
    }
   ],
   "source": [
    "%%file prime.c\n",
    "\n",
    "/*C Program to Print Prime Numbers between 1 to 100 using For Loop*/\n",
    "\n",
    "#include <stdio.h>\n",
    "\n",
    "int main() {   \n",
    "    \n",
    "  int i, Number, count; \n",
    "  printf(\" Prime Number from 1 to 100 are: \\n\"); \n",
    "  for(Number = 1; Number <= 100; Number++)  {\n",
    "    count = 0;\n",
    "    for (i = 2; i <= Number/2; i++) {\n",
    "      if(Number%i == 0) {\n",
    "         count++;\n",
    "      break;\n",
    "      }\n",
    "    }\n",
    "    if(count == 0 && Number != 1 ) {\n",
    "        printf(\" %d \", Number);\n",
    "    }  \n",
    "  }\n",
    "  return 0;\n",
    "}"
   ]
  },
  {
   "cell_type": "code",
   "execution_count": 8,
   "id": "2e338097",
   "metadata": {},
   "outputs": [
    {
     "name": "stdout",
     "output_type": "stream",
     "text": [
      " Prime Number from 1 to 100 are: \r\n",
      " 2  3  5  7  11  13  17  19  23  29  31  37  41  43  47  53  59  61  67  71  73  79  83  89  97 "
     ]
    }
   ],
   "source": [
    "! gcc prime.c -o prime\n",
    "! ./prime"
   ]
  },
  {
   "cell_type": "code",
   "execution_count": null,
   "id": "bf863067",
   "metadata": {},
   "outputs": [],
   "source": []
  }
 ],
 "metadata": {
  "kernelspec": {
   "display_name": "Python 3 (ipykernel)",
   "language": "python",
   "name": "python3"
  },
  "language_info": {
   "codemirror_mode": {
    "name": "ipython",
    "version": 3
   },
   "file_extension": ".py",
   "mimetype": "text/x-python",
   "name": "python",
   "nbconvert_exporter": "python",
   "pygments_lexer": "ipython3",
   "version": "3.7.10"
  }
 },
 "nbformat": 4,
 "nbformat_minor": 5
}
